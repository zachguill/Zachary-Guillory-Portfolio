{
 "cells": [
  {
   "cell_type": "code",
   "execution_count": 2,
   "id": "7a51ec81-38a8-4d59-8374-8e3ca57c6b3a",
   "metadata": {},
   "outputs": [
    {
     "name": "stdout",
     "output_type": "stream",
     "text": [
      "sorry you didn't find your cat.\n",
      "sorry you didn't find your cat.\n",
      "cat\n",
      "sorry you didn't find your cat.\n"
     ]
    }
   ],
   "source": [
    "#Question 1\n",
    "list1 = ['abe', 'bob', 'cat', 'doggie']\n",
    "\n",
    "for i in list1:\n",
    "    if i == 'cat':\n",
    "        print(i)\n",
    "    else:\n",
    "        print(\"sorry you didn't find your cat.\")"
   ]
  },
  {
   "cell_type": "code",
   "execution_count": 10,
   "id": "f52d0608-ca7e-491e-a5e2-af51f23a733c",
   "metadata": {},
   "outputs": [
    {
     "name": "stdout",
     "output_type": "stream",
     "text": [
      "Orange contains the letter g\n",
      "Orange contains the letter g\n"
     ]
    }
   ],
   "source": [
    "#Question 2\n",
    "w = 'Orange'\n",
    "\n",
    "for i in w:\n",
    "    if i == 'g':\n",
    "        print(w, 'contains the letter',i)\n",
    "\n",
    "# both of these will return the same answer\n",
    "\n",
    "if 'g' in w:\n",
    "    print(w, 'contains the letter g')"
   ]
  },
  {
   "cell_type": "code",
   "execution_count": 9,
   "id": "71fcac49-9eba-4643-ae13-342e3bb63a60",
   "metadata": {},
   "outputs": [
    {
     "name": "stdout",
     "output_type": "stream",
     "text": [
      "Part A\n",
      "12 is not divisible by 5 or 7\n",
      "14 is not divisible by 5 or 7\n",
      "15 is not divisible by 5 or 7\n",
      "35 is divisible by both 5 and 7\n",
      "21 is not divisible by 5 or 7\n",
      "70 is divisible by both 5 and 7\n",
      "Part B\n",
      "12 is divisible by 3\n",
      "14 is not divisible by 3\n",
      "15 is divisible by 3\n",
      "35 is not divisible by 3\n",
      "21 is divisible by 3\n",
      "70 is not divisible by 3\n"
     ]
    }
   ],
   "source": [
    "#Question 3\n",
    "flist = [12, 14, 15, 35, 21, 70]\n",
    "\n",
    "#part A\n",
    "print('Part A')\n",
    "for i in flist:\n",
    "    if i%5 == 0 and i%7 == 0:\n",
    "        print(i,'is divisible by both 5 and 7')\n",
    "    else:\n",
    "        print(i, 'is not divisible by 5 or 7')\n",
    "\n",
    "#part b\n",
    "print('Part B')\n",
    "for i in flist:\n",
    "    if i%3 == 0:\n",
    "        print(i, 'is divisible by 3')\n",
    "    else:\n",
    "        print(i, 'is not divisible by 3')"
   ]
  },
  {
   "cell_type": "code",
   "execution_count": null,
   "id": "9a151f84-c20e-4ed6-8096-8074c2594616",
   "metadata": {},
   "outputs": [],
   "source": []
  }
 ],
 "metadata": {
  "kernelspec": {
   "display_name": "Python 3 (ipykernel)",
   "language": "python",
   "name": "python3"
  },
  "language_info": {
   "codemirror_mode": {
    "name": "ipython",
    "version": 3
   },
   "file_extension": ".py",
   "mimetype": "text/x-python",
   "name": "python",
   "nbconvert_exporter": "python",
   "pygments_lexer": "ipython3",
   "version": "3.12.4"
  }
 },
 "nbformat": 4,
 "nbformat_minor": 5
}
