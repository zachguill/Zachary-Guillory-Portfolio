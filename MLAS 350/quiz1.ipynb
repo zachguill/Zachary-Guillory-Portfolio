{
 "cells": [
  {
   "cell_type": "code",
   "execution_count": 4,
   "id": "b8cf1ea8-4796-4654-ad55-1ec8f96ba578",
   "metadata": {},
   "outputs": [
    {
     "name": "stdout",
     "output_type": "stream",
     "text": [
      "[12, 19, 16]\n",
      "[12, -11, 19, 16]\n",
      "[12, -11, 16]\n"
     ]
    }
   ],
   "source": [
    "\"\"\"\n",
    "Create a list with values 12, 19, 16 and print the list perform the following:\n",
    "\n",
    "insert -11 at index 1\n",
    "\n",
    "print the list\n",
    "\n",
    "pop 19\n",
    "\n",
    "print the list\n",
    "\"\"\"\n",
    "\n",
    "list1 = [12, 19, 16]\n",
    "print(list1)\n",
    "list1.insert(1, -11)\n",
    "print(list1)\n",
    "list1.pop(2)\n",
    "print(list1)"
   ]
  },
  {
   "cell_type": "code",
   "execution_count": 9,
   "id": "f1e5ef60-191b-457c-a81f-ddd3f3a82f0c",
   "metadata": {},
   "outputs": [
    {
     "name": "stdout",
     "output_type": "stream",
     "text": [
      "          Cities  Temperature\n",
      "0        Chicago           70\n",
      "1       New York           75\n",
      "2  San Francisco           65\n"
     ]
    }
   ],
   "source": [
    "\"\"\"\n",
    "If temperature in Chicago is 70, New York is 75 and San Francisco \n",
    "is 65. Create a Pandas data structure that can hold this \n",
    "information with columns headings: Cities and Temperature. \n",
    "Print the data structure. \n",
    "\"\"\"\n",
    "\n",
    "import pandas as pd\n",
    "dTemp = { 'Cities':['Chicago','New York','San Francisco'], 'Temperature':[70,75,65]}\n",
    "cityTemp = pd.DataFrame(dTemp)\n",
    "print(cityTemp)"
   ]
  },
  {
   "cell_type": "code",
   "execution_count": null,
   "id": "856eaf60-a622-4de4-aac7-76196bd0daf8",
   "metadata": {},
   "outputs": [],
   "source": []
  }
 ],
 "metadata": {
  "kernelspec": {
   "display_name": "Python 3 (ipykernel)",
   "language": "python",
   "name": "python3"
  },
  "language_info": {
   "codemirror_mode": {
    "name": "ipython",
    "version": 3
   },
   "file_extension": ".py",
   "mimetype": "text/x-python",
   "name": "python",
   "nbconvert_exporter": "python",
   "pygments_lexer": "ipython3",
   "version": "3.12.4"
  }
 },
 "nbformat": 4,
 "nbformat_minor": 5
}
